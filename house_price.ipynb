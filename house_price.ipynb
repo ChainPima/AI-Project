{
  "nbformat": 4,
  "nbformat_minor": 0,
  "metadata": {
    "colab": {
      "provenance": []
    },
    "kernelspec": {
      "name": "python3",
      "display_name": "Python 3"
    },
    "language_info": {
      "name": "python"
    }
  },
  "cells": [
    {
      "cell_type": "markdown",
      "metadata": {
        "id": "mZsq3dK5RaYz"
      },
      "source": [
        "# Pre-setting"
      ]
    },
    {
      "cell_type": "code",
      "metadata": {
        "id": "ZvDl5Jjh2gZy"
      },
      "source": [
        "!pip install sweetviz"
      ],
      "execution_count": null,
      "outputs": []
    },
    {
      "cell_type": "code",
      "metadata": {
        "id": "MEDo_V7v3Qtl"
      },
      "source": [
        "# Import libraies\n",
        "import numpy as np\n",
        "import pandas as pd\n",
        "import matplotlib.pyplot as plt\n",
        "# import sweetviz as sv"
      ],
      "execution_count": null,
      "outputs": []
    },
    {
      "cell_type": "markdown",
      "metadata": {
        "id": "q5LCOw8IB8sj"
      },
      "source": [
        "# House Prediction Model"
      ]
    },
    {
      "cell_type": "markdown",
      "metadata": {
        "id": "gs1ByxVNRhDr"
      },
      "source": [
        "## Import dataset as dataframe"
      ]
    },
    {
      "cell_type": "code",
      "metadata": {
        "id": "zq_oq1qtEw-e"
      },
      "source": [
        "def import_data(path, column_id):\n",
        "  # Import data set\n",
        "  df = pd.read_csv(path, header = 0)\n",
        "  # Drop column id\n",
        "  df = df.drop(axis = 1, columns = [column_id])\n",
        "\n",
        "  return df"
      ],
      "execution_count": null,
      "outputs": []
    },
    {
      "cell_type": "markdown",
      "metadata": {
        "id": "4Wys58NpRLuz"
      },
      "source": [
        "## Report dataset with sweetviz"
      ]
    },
    {
      "cell_type": "code",
      "metadata": {
        "id": "FqBrxGu0CHfs"
      },
      "source": [
        "def report_data(df):\n",
        "  report = sv.analyze(df)\n",
        "  report.show_html('./report.html')"
      ],
      "execution_count": null,
      "outputs": []
    },
    {
      "cell_type": "markdown",
      "metadata": {
        "id": "HxDRC1LntxSd"
      },
      "source": [
        "##Handle with missing and nan values\n",
        "\n"
      ]
    },
    {
      "cell_type": "code",
      "metadata": {
        "id": "uVDs-q0Yt2g_"
      },
      "source": [
        "def handle_with_nan_values(df)\n",
        "  m = df.shape[0] # pre-number of traing examples \n",
        "\n",
        "  # MasVnrType, MasVnrArea and Electrical column\n",
        "  # If nan values occupies less or eual than 1 percent, delete all nan-rows \n",
        "  number_nan_value_in_masvnr = df['MasVnrType'].isna().sum()\n",
        "\n",
        "  percent_nan_value_in_masvnr = (number_nan_value_in_masvnr * 100) // m\n",
        "  if percent_nan_value_in_masvnr <= 1:\n",
        "    df.dropna(subset = [\"MasVnrType\"], inplace = True) \n",
        "\n",
        "  number_nan_value_in_electrical = df['Electrical'].isna().sum()\n",
        "\n",
        "  percent_nan_value_in_electrical = (number_nan_value_in_electrical * 100) // m\n",
        "  if percent_nan_value_in_electrical <= 1:\n",
        "    df.dropna(subset = [\"Electrical\"], inplace = True)\n",
        "\n",
        "  # Reset_index after delete nan-rows\n",
        "  df.reset_index(drop = True, inplace = True)\n",
        "\n",
        "  retrun df"
      ],
      "execution_count": null,
      "outputs": []
    },
    {
      "cell_type": "code",
      "metadata": {
        "id": "cXgSBxxIm0fL"
      },
      "source": [
        "def handle_with_missing_value(df, object_to_fillna):\n",
        "\n",
        "  # Base on data description to decide\n",
        "  df.fillna(value = object_to_fillna, inplace = True)\n",
        "\n",
        "  return df"
      ],
      "execution_count": null,
      "outputs": []
    },
    {
      "cell_type": "markdown",
      "metadata": {
        "id": "c0ot9Aho8ntp"
      },
      "source": [
        "## Handle non-numerical features and normalize numerical features"
      ]
    },
    {
      "cell_type": "code",
      "metadata": {
        "id": "XFmt0GQd8vKf"
      },
      "source": [
        "def non_numerical_feature_scaling(df):\n",
        "  columns = df.columns.values\n",
        "  for column in columns:\n",
        "    text_digit_value = {}\n",
        "    def convert_to_int(val):\n",
        "      return text_digit_value[val]\n",
        "    def feature_normalization(val):\n",
        "      return (val - mean_value) / std_value;\n",
        "    if df[column].dtype != 'int64' and df[column].dtype != 'float64':\n",
        "      column_list = df[column].tolist()\n",
        "      column_set = set(column_list)\n",
        "      x = 0\n",
        "      for unique_element in column_set:\n",
        "        if unique_element not in text_digit_value:\n",
        "          text_digit_value[unique_element] = x\n",
        "          x += 1\n",
        "      df[column] = list(map(convert_to_int, df[column]))\n",
        "    else:\n",
        "      mean_value = df[column].mean()\n",
        "      std_value = df[column].std()\n",
        "      df[column] = df[column].apply(feature_normalization)\n",
        "  return df"
      ],
      "execution_count": null,
      "outputs": []
    },
    {
      "cell_type": "markdown",
      "metadata": {
        "id": "jbG5_3sis_pP"
      },
      "source": [
        "## Main concept of House Prediction Model"
      ]
    },
    {
      "cell_type": "code",
      "metadata": {
        "id": "ORHwEOBqDrfe"
      },
      "source": [
        "object_to_fillna = {\"LotFrontage\": 0,\n",
        "                    \"Alley\": \"#None\",\n",
        "                    \"BsmtQual\": \"#None\",\n",
        "                    \"BsmtCond\": \"#None\",\n",
        "                    \"BsmtExposure\": \"#None\",\n",
        "                    \"BsmtFinType1\": \"#None\",\n",
        "                    \"BsmtFinType2\": \"#None\",\n",
        "                    \"FireplaceQu\": \"#None\",\n",
        "                    \"GarageType\": \"#None\",\n",
        "                    \"GarageYrBlt\": 0,\n",
        "                    \"GarageFinish\": \"#None\",\n",
        "                    \"GarageQual\": \"#None\",\n",
        "                    \"GarageCond\": \"#None\",\n",
        "                    \"PoolQC\": \"#None\",\n",
        "                    \"Fence\": \"#None\",\n",
        "                    \"MiscFeature\": \"#None\"}"
      ],
      "execution_count": null,
      "outputs": []
    },
    {
      "cell_type": "code",
      "metadata": {
        "id": "-dwV_vJ5FL-C"
      },
      "source": [
        "df = import_data(path = '/content/drive/Shareddrives/AI-Project/train.csv', column_id = 'Id')"
      ],
      "execution_count": null,
      "outputs": []
    },
    {
      "cell_type": "code",
      "metadata": {
        "id": "7zjCUA14kmNz"
      },
      "source": [
        "df = handle_with_nan_values(df)\n",
        "\n",
        "y = df['SalePrice']\n",
        "X = df.drop(axis = 1, columns = ['SalePrice'])\n",
        "\n",
        "X = handle_with_missing_value(X, object_to_fillna)\n",
        "\n",
        "X = non_numerical_feature_scaling(X)\n",
        "\n",
        "m = X.shape[0] # pos-number of traing examples\n",
        "n = X.shape[1] # number of features\n",
        "X.insert(0, \"Theta Zero\", np.ones((m, 1), dtype = int), True)\n",
        "\n",
        "X = X.to_numpy()\n",
        "y = y.to_numpy()"
      ],
      "execution_count": null,
      "outputs": []
    },
    {
      "cell_type": "code",
      "metadata": {
        "id": "jAFVFTLZtCjg"
      },
      "source": [
        "def computeCost(error_value, m):\n",
        "  J = np.dot(error_value, np.transpose(error_value))\n",
        "  J = J / (2 * m)\n",
        "  return J\n",
        "\n",
        "def gradientDescent(X, y, theta, m, alpha, num_iters):\n",
        "  J_history = []\n",
        "  for i in range(num_iters):\n",
        "    error_value = np.zeros((1, m))\n",
        "    error_value += np.concatenate(np.dot(X, theta)) - y\n",
        "    J_history.append(computeCost(error_value, m))\n",
        "    theta = theta - (alpha / m) * np.transpose(np.dot(error_value, X))\n",
        "\n",
        "  return [J_history, theta]"
      ],
      "execution_count": null,
      "outputs": []
    },
    {
      "cell_type": "code",
      "metadata": {
        "id": "H4eoTBY3Tf7I"
      },
      "source": [
        "theta = np.zeros(((n + 1), 1), dtype = int)\n",
        "alpha = 0.001\n",
        "num_iters = 500"
      ],
      "execution_count": null,
      "outputs": []
    },
    {
      "cell_type": "code",
      "metadata": {
        "id": "XaTUOWxYWCMc"
      },
      "source": [
        "[J_history, theta] = gradientDescent(X, y, theta, m, alpha, num_iters)\n",
        "J_history = np.concatenate(J_history)"
      ],
      "execution_count": null,
      "outputs": []
    },
    {
      "cell_type": "code",
      "metadata": {
        "id": "zqjrQ18fEruY"
      },
      "source": [
        "plt.plot(np.arange(1, num_iters + 1), J_history)"
      ],
      "execution_count": null,
      "outputs": []
    },
    {
      "cell_type": "markdown",
      "metadata": {
        "id": "NDOo7ruM68Jc"
      },
      "source": [
        "# Predict House Price"
      ]
    },
    {
      "cell_type": "code",
      "metadata": {
        "id": "V6ycEX6XFhBF"
      },
      "source": [
        "df_test = import_data(path = '/content/drive/Shareddrives/AI-Project/test.csv', column_id = 'Id')"
      ],
      "execution_count": null,
      "outputs": []
    },
    {
      "cell_type": "code",
      "metadata": {
        "id": "jRSAZY-766Uj"
      },
      "source": [
        "df_test.dropna(subset = [\"MasVnrType\"], inplace = True)\n",
        "df_test.dropna(subset = [\"Electrical\"], inplace = True)\n",
        "df_test.reset_index(drop = True, inplace = True)\n",
        "\n",
        "df_test = handle_with_missing_value(df_test, object_to_fillna)\n",
        "\n",
        "df_test = non_numerical_feature_scaling(df_test)\n",
        "\n",
        "number_of_test_example = df_test.shape[0]\n",
        "df_test.insert(0, \"Theta Zero\", np.ones((number_of_test_example, 1), dtype = int), True)\n",
        "\n",
        "df_test = df_test.to_numpy()"
      ],
      "execution_count": null,
      "outputs": []
    },
    {
      "cell_type": "code",
      "metadata": {
        "id": "hpjFU4zP7UNC"
      },
      "source": [
        "def predict_house_price(test_example, theta):\n",
        "  return np.dot(test_example, theta)"
      ],
      "execution_count": null,
      "outputs": []
    },
    {
      "cell_type": "code",
      "metadata": {
        "colab": {
          "base_uri": "https://localhost:8080/"
        },
        "id": "EmwWZ2TJ_tR9",
        "outputId": "ce85f364-b2a8-45c8-a008-a024926215af"
      },
      "source": [
        "print(predict_house_price(test_example = X[5], theta = theta))"
      ],
      "execution_count": null,
      "outputs": [
        {
          "output_type": "stream",
          "name": "stdout",
          "text": [
            "[138025.89212924]\n"
          ]
        }
      ]
    }
  ]
}